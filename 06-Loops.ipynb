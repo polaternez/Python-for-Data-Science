{
 "cells": [
  {
   "cell_type": "markdown",
   "metadata": {},
   "source": [
    "# for loop"
   ]
  },
  {
   "cell_type": "code",
   "execution_count": 1,
   "metadata": {},
   "outputs": [],
   "source": [
    "numList = [10, 20, 30, 40, 50]"
   ]
  },
  {
   "cell_type": "code",
   "execution_count": 2,
   "metadata": {},
   "outputs": [
    {
     "name": "stdout",
     "output_type": "stream",
     "text": [
      "31\n",
      "61\n",
      "91\n",
      "121\n",
      "151\n"
     ]
    }
   ],
   "source": [
    "for num in numList:\n",
    "    newNum = num*3 + 1\n",
    "    print(newNum)\n"
   ]
  },
  {
   "cell_type": "code",
   "execution_count": 3,
   "metadata": {},
   "outputs": [
    {
     "name": "stdout",
     "output_type": "stream",
     "text": [
      "P\n",
      "y\n",
      "t\n",
      "h\n",
      "o\n",
      "n\n"
     ]
    }
   ],
   "source": [
    "text = \"Python\"\n",
    "for letter in text :\n",
    "    print(letter)"
   ]
  },
  {
   "cell_type": "code",
   "execution_count": 4,
   "metadata": {},
   "outputs": [
    {
     "name": "stdout",
     "output_type": "stream",
     "text": [
      "6.2\n",
      "8.2\n",
      "1.2\n"
     ]
    }
   ],
   "source": [
    "coordinateList = [(6.2, 3.1), (8.2, 2.1), (1.2, 9.8)]\n",
    "for coordinate in coordinateList:\n",
    "    #print(coordinate)\n",
    "    print(coordinate[0])"
   ]
  },
  {
   "cell_type": "code",
   "execution_count": 5,
   "metadata": {},
   "outputs": [
    {
     "name": "stdout",
     "output_type": "stream",
     "text": [
      "6.2 3.1\n",
      "8.2 2.1\n",
      "1.2 9.8\n"
     ]
    }
   ],
   "source": [
    "for (x, y) in coordinateList:\n",
    "    print(x, y)"
   ]
  },
  {
   "cell_type": "code",
   "execution_count": 6,
   "metadata": {},
   "outputs": [],
   "source": [
    "myDict = {\"apple\": 100, \"orange\": 200, \"cherry\": 300, \"strawberry\": 400}"
   ]
  },
  {
   "cell_type": "code",
   "execution_count": 7,
   "metadata": {},
   "outputs": [
    {
     "name": "stdout",
     "output_type": "stream",
     "text": [
      "('apple', 100)\n",
      "('orange', 200)\n",
      "('cherry', 300)\n",
      "('strawberry', 400)\n"
     ]
    }
   ],
   "source": [
    "for dictItem in myDict.items():\n",
    "    print(dictItem)"
   ]
  },
  {
   "cell_type": "code",
   "execution_count": 17,
   "metadata": {},
   "outputs": [
    {
     "name": "stdout",
     "output_type": "stream",
     "text": [
      "(0, 'apple')\n",
      "(1, 'orange')\n",
      "(2, 'cherry')\n",
      "(3, 'strawberry')\n"
     ]
    }
   ],
   "source": [
    "for dictItem in enumerate(myDict):\n",
    "    print(dictItem)"
   ]
  },
  {
   "cell_type": "code",
   "execution_count": 4,
   "metadata": {},
   "outputs": [
    {
     "name": "stdout",
     "output_type": "stream",
     "text": [
      "(0, 66)\n",
      "(1, 4)\n",
      "(2, 5)\n",
      "(3, 72)\n",
      "(4, 9)\n",
      "(5, 20)\n"
     ]
    }
   ],
   "source": [
    "mySet = {9, 5, 66, 72, 20, 4}\n",
    "for item in enumerate(mySet):\n",
    "    print(item)"
   ]
  },
  {
   "cell_type": "code",
   "execution_count": 8,
   "metadata": {},
   "outputs": [
    {
     "name": "stdout",
     "output_type": "stream",
     "text": [
      "apple 100\n",
      "orange 200\n",
      "cherry 300\n",
      "strawberry 400\n"
     ]
    }
   ],
   "source": [
    "for (key, value) in myDict.items():\n",
    "    print(key, value)"
   ]
  },
  {
   "cell_type": "code",
   "execution_count": 9,
   "metadata": {},
   "outputs": [],
   "source": [
    "myList = [2, 3, 5, [8, 13, 21]]"
   ]
  },
  {
   "cell_type": "code",
   "execution_count": 10,
   "metadata": {},
   "outputs": [
    {
     "name": "stdout",
     "output_type": "stream",
     "text": [
      "4\n",
      "6\n",
      "10\n",
      "[8, 13, 21, 8, 13, 21]\n"
     ]
    }
   ],
   "source": [
    "for item in myList:\n",
    "    print(item * 2)"
   ]
  },
  {
   "cell_type": "code",
   "execution_count": 11,
   "metadata": {},
   "outputs": [],
   "source": [
    "numList=[5, 10, 15, 20, 25, 30]"
   ]
  },
  {
   "cell_type": "code",
   "execution_count": 12,
   "metadata": {},
   "outputs": [
    {
     "name": "stdout",
     "output_type": "stream",
     "text": [
      "5\n",
      "10\n",
      "20\n",
      "25\n",
      "30\n"
     ]
    }
   ],
   "source": [
    "for num in numList:\n",
    "    if num == 15 :\n",
    "        #break\n",
    "        continue\n",
    "    print(num)"
   ]
  },
  {
   "cell_type": "code",
   "execution_count": 13,
   "metadata": {},
   "outputs": [],
   "source": [
    "for num in numList:\n",
    "    pass"
   ]
  },
  {
   "cell_type": "markdown",
   "metadata": {},
   "source": [
    "# while loop"
   ]
  },
  {
   "cell_type": "code",
   "execution_count": 14,
   "metadata": {},
   "outputs": [
    {
     "name": "stdout",
     "output_type": "stream",
     "text": [
      "0\n",
      "1\n",
      "2\n",
      "3\n",
      "4\n",
      "5\n",
      "6\n"
     ]
    },
    {
     "data": {
      "text/plain": [
       "[0, 1, 2, 3, 4, 5, 6]"
      ]
     },
     "execution_count": 14,
     "metadata": {},
     "output_type": "execute_result"
    }
   ],
   "source": [
    "numList = []\n",
    "x=0\n",
    "while x<7:\n",
    "    print(x)\n",
    "    numList.append(x)\n",
    "    x+=1\n",
    "numList"
   ]
  },
  {
   "cell_type": "code",
   "execution_count": 15,
   "metadata": {},
   "outputs": [
    {
     "name": "stdout",
     "output_type": "stream",
     "text": [
      "6\n",
      "5\n",
      "4\n",
      "3\n"
     ]
    }
   ],
   "source": [
    "while 3 in numList:\n",
    "    print(numList.pop())"
   ]
  },
  {
   "cell_type": "code",
   "execution_count": 16,
   "metadata": {},
   "outputs": [
    {
     "name": "stdout",
     "output_type": "stream",
     "text": [
      "Current value : 12\n",
      "Current value : 11\n",
      "Current value : 10\n",
      "Current value : 9\n",
      "Current value : 8\n",
      "Current value : 7\n",
      "Current value : 6\n",
      "Current value : 5\n",
      "Current value : 4\n",
      "Current value : 3\n",
      "Current value : 2\n",
      "Current value : 1\n"
     ]
    }
   ],
   "source": [
    "x=12\n",
    "while x>0:\n",
    "    #print(\"Current value :\"+str(x)) \n",
    "     #print(\"Current value : {}\".format(x))\n",
    "    print(f\"Current value : {x}\")\n",
    "    x-=1    "
   ]
  },
  {
   "cell_type": "code",
   "execution_count": null,
   "metadata": {},
   "outputs": [],
   "source": []
  },
  {
   "cell_type": "code",
   "execution_count": null,
   "metadata": {},
   "outputs": [],
   "source": []
  }
 ],
 "metadata": {
  "kernelspec": {
   "display_name": "Python 3 (ipykernel)",
   "language": "python",
   "name": "python3"
  },
  "language_info": {
   "codemirror_mode": {
    "name": "ipython",
    "version": 3
   },
   "file_extension": ".py",
   "mimetype": "text/x-python",
   "name": "python",
   "nbconvert_exporter": "python",
   "pygments_lexer": "ipython3",
   "version": "3.8.11"
  }
 },
 "nbformat": 4,
 "nbformat_minor": 4
}
