{
 "cells": [
  {
   "cell_type": "code",
   "execution_count": 1,
   "metadata": {},
   "outputs": [
    {
     "name": "stdout",
     "output_type": "stream",
     "text": [
      "Enter number: x\n",
      "Error!\n",
      "Finally executed!\n",
      "\n",
      "Enter number: y\n",
      "Error!\n",
      "Finally executed!\n",
      "\n",
      "Enter number: 6\n",
      "Success!\n",
      "Finally executed!\n",
      "\n"
     ]
    }
   ],
   "source": [
    "while True:\n",
    "    try:\n",
    "       my_num = int(input(\"Enter number: \"))\n",
    "    except:\n",
    "        print(\"Error!\")\n",
    "       # continue\n",
    "    else :\n",
    "        print(\"Success!\")\n",
    "        break\n",
    "    finally:\n",
    "        print(\"Finally executed!\\n\")"
   ]
  },
  {
   "cell_type": "code",
   "execution_count": null,
   "metadata": {},
   "outputs": [],
   "source": []
  },
  {
   "cell_type": "code",
   "execution_count": null,
   "metadata": {},
   "outputs": [],
   "source": []
  }
 ],
 "metadata": {
  "kernelspec": {
   "display_name": "Python 3 (ipykernel)",
   "language": "python",
   "name": "python3"
  },
  "language_info": {
   "codemirror_mode": {
    "name": "ipython",
    "version": 3
   },
   "file_extension": ".py",
   "mimetype": "text/x-python",
   "name": "python",
   "nbconvert_exporter": "python",
   "pygments_lexer": "ipython3",
   "version": "3.8.11"
  }
 },
 "nbformat": 4,
 "nbformat_minor": 4
}
