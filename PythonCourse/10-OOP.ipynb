{
 "cells": [
  {
   "cell_type": "code",
   "execution_count": 1,
   "metadata": {},
   "outputs": [],
   "source": [
    "class SuperHero:\n",
    "    \n",
    "    abilities = \"\"\n",
    "    \n",
    "    def __init__(self, name, age, job):\n",
    "        self.name = name\n",
    "        self.age = age\n",
    "        self.job = job\n",
    "        \n",
    "    def sample_method(self):\n",
    "        print(f\"I am superhero! My job is {self.job}\")"
   ]
  },
  {
   "cell_type": "code",
   "execution_count": 2,
   "metadata": {},
   "outputs": [],
   "source": [
    "superman = SuperHero(\"Superman\", 30, \"Journalist\")"
   ]
  },
  {
   "cell_type": "code",
   "execution_count": 3,
   "metadata": {},
   "outputs": [
    {
     "name": "stdout",
     "output_type": "stream",
     "text": [
      "I am superhero! My job is Journalist\n"
     ]
    }
   ],
   "source": [
    "superman.sample_method()"
   ]
  },
  {
   "cell_type": "code",
   "execution_count": 4,
   "metadata": {},
   "outputs": [],
   "source": [
    "class Dog:\n",
    "    \n",
    "    yearFactor = 7\n",
    "    \n",
    "    def __init__(self, age=5):\n",
    "        self.age = age\n",
    "        \n",
    "    def humanAgeCalculate(self):\n",
    "        #return self.age*self.yearFactor\n",
    "        return self.age * Dog.yearFactor"
   ]
  },
  {
   "cell_type": "code",
   "execution_count": 5,
   "metadata": {},
   "outputs": [],
   "source": [
    "butcher = Dog()"
   ]
  },
  {
   "cell_type": "code",
   "execution_count": 6,
   "metadata": {},
   "outputs": [
    {
     "name": "stdout",
     "output_type": "stream",
     "text": [
      "Dog age : 5\n",
      "Human age : 35\n"
     ]
    }
   ],
   "source": [
    "print(f\"Dog age: {butcher.age}\")\n",
    "print(f\"Human age: {butcher.humanAgeCalculate()}\")"
   ]
  },
  {
   "cell_type": "markdown",
   "metadata": {},
   "source": [
    "# Inheritance"
   ]
  },
  {
   "cell_type": "code",
   "execution_count": 7,
   "metadata": {},
   "outputs": [],
   "source": [
    "class Animal:\n",
    "    \n",
    "    def __init__(self, name):\n",
    "        self.name = name\n",
    "        print(\"Animal class : init called!\")\n",
    "        \n",
    "    def method1(self):\n",
    "        print(\"Animal class : method1 called!\")\n",
    "        \n",
    "    def method2(self):\n",
    "        print(\"Animal class : method2 called!\")"
   ]
  },
  {
   "cell_type": "code",
   "execution_count": 8,
   "metadata": {},
   "outputs": [],
   "source": [
    "class Cat(Animal):\n",
    "    \n",
    "    def __init__(self, name, age):\n",
    "        super().__init__(name)\n",
    "        self.age = age\n",
    "        print(\"Cat class : init called!\")\n",
    "        \n",
    "    def meow (self):\n",
    "        print(\"Meow!\")\n",
    "        \n",
    "    def method1(self):\n",
    "        print(\"Cat class : method1 called!\")\n",
    "    "
   ]
  },
  {
   "cell_type": "code",
   "execution_count": 9,
   "metadata": {},
   "outputs": [
    {
     "name": "stdout",
     "output_type": "stream",
     "text": [
      "Animal class : init called!\n",
      "Cat class : init called!\n",
      "simba\n",
      "3\n"
     ]
    }
   ],
   "source": [
    "lion = Cat(\"simba\", 3)\n",
    "\n",
    "print(lion.name)\n",
    "print(lion.age)"
   ]
  },
  {
   "cell_type": "code",
   "execution_count": 10,
   "metadata": {},
   "outputs": [
    {
     "name": "stdout",
     "output_type": "stream",
     "text": [
      "Cat class : method1 called!\n"
     ]
    }
   ],
   "source": [
    "lion.method1()\n"
   ]
  },
  {
   "cell_type": "code",
   "execution_count": 11,
   "metadata": {},
   "outputs": [
    {
     "name": "stdout",
     "output_type": "stream",
     "text": [
      "Animal class : method2 called!\n"
     ]
    }
   ],
   "source": [
    "lion.method2()"
   ]
  },
  {
   "cell_type": "markdown",
   "metadata": {},
   "source": [
    "# Polymorphism"
   ]
  },
  {
   "cell_type": "code",
   "execution_count": 12,
   "metadata": {},
   "outputs": [],
   "source": [
    "class Dog :\n",
    "    def __init__(self, name):\n",
    "        self.name = name\n",
    "\n",
    "    def animalSound(self):\n",
    "        return f\"{self.name} says: bow wow\""
   ]
  },
  {
   "cell_type": "code",
   "execution_count": 13,
   "metadata": {},
   "outputs": [],
   "source": [
    "class Cat :\n",
    "    def __init__(self, name):\n",
    "        self.name = name\n",
    "\n",
    "    def animalSound(self):\n",
    "         return f\"{self.name} says: meow meow\"\n"
   ]
  },
  {
   "cell_type": "code",
   "execution_count": 14,
   "metadata": {},
   "outputs": [],
   "source": [
    "dog = Dog(\"dog\")"
   ]
  },
  {
   "cell_type": "code",
   "execution_count": 15,
   "metadata": {},
   "outputs": [],
   "source": [
    "cat = Cat(\"cat\")"
   ]
  },
  {
   "cell_type": "code",
   "execution_count": 16,
   "metadata": {},
   "outputs": [],
   "source": [
    "animal_list = [dog, cat]"
   ]
  },
  {
   "cell_type": "code",
   "execution_count": 17,
   "metadata": {},
   "outputs": [
    {
     "name": "stdout",
     "output_type": "stream",
     "text": [
      "dog says: bow wow\n",
      "cat says: meow meow\n"
     ]
    }
   ],
   "source": [
    "for animal in animal_list:\n",
    "    print(animal.animalSound())"
   ]
  },
  {
   "cell_type": "code",
   "execution_count": 18,
   "metadata": {},
   "outputs": [],
   "source": [
    "def sound(animal):\n",
    "    print(animal.animalSound())"
   ]
  },
  {
   "cell_type": "code",
   "execution_count": 19,
   "metadata": {},
   "outputs": [
    {
     "name": "stdout",
     "output_type": "stream",
     "text": [
      "cat says: meow meow\n"
     ]
    }
   ],
   "source": [
    "sound(cat)"
   ]
  },
  {
   "cell_type": "markdown",
   "metadata": {},
   "source": [
    "# special methods"
   ]
  },
  {
   "cell_type": "code",
   "execution_count": 20,
   "metadata": {},
   "outputs": [],
   "source": [
    "class Fruit:    \n",
    "    def __init__(self, name, calory):\n",
    "        self.name = name\n",
    "        self.calory = calory\n",
    "        \n",
    "    def __str__(self):\n",
    "        return f\"{self.name} has {self.calory} calories.\"\n",
    "    \n",
    "    def __len__(self):\n",
    "        return self.calory\n"
   ]
  },
  {
   "cell_type": "code",
   "execution_count": 21,
   "metadata": {},
   "outputs": [],
   "source": [
    "banana = Fruit(\"Banana\", 150)"
   ]
  },
  {
   "cell_type": "code",
   "execution_count": 22,
   "metadata": {},
   "outputs": [
    {
     "name": "stdout",
     "output_type": "stream",
     "text": [
      "Banana has 150 calories.\n"
     ]
    }
   ],
   "source": [
    "print(banana)"
   ]
  },
  {
   "cell_type": "code",
   "execution_count": 23,
   "metadata": {},
   "outputs": [
    {
     "data": {
      "text/plain": [
       "150"
      ]
     },
     "execution_count": 23,
     "metadata": {},
     "output_type": "execute_result"
    }
   ],
   "source": [
    "len(banana)"
   ]
  },
  {
   "cell_type": "code",
   "execution_count": null,
   "metadata": {},
   "outputs": [],
   "source": []
  }
 ],
 "metadata": {
  "kernelspec": {
   "display_name": "Python 3 (ipykernel)",
   "language": "python",
   "name": "python3"
  },
  "language_info": {
   "codemirror_mode": {
    "name": "ipython",
    "version": 3
   },
   "file_extension": ".py",
   "mimetype": "text/x-python",
   "name": "python",
   "nbconvert_exporter": "python",
   "pygments_lexer": "ipython3",
   "version": "3.8.11"
  }
 },
 "nbformat": 4,
 "nbformat_minor": 4
}
