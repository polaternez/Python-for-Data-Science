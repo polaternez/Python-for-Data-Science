{
 "cells": [
  {
   "cell_type": "code",
   "execution_count": 1,
   "metadata": {},
   "outputs": [
    {
     "name": "stdout",
     "output_type": "stream",
     "text": [
      "a: 5\n",
      "b: 7\n",
      "operation(+-*/): +\n",
      "5+7=12\n"
     ]
    }
   ],
   "source": [
    "def calculate(x, y, operation):\n",
    "    if operation not in \"+-*/\":\n",
    "        return \"Wrong operation type! Choose one of the +-*/\"\n",
    "    if operation == \"+\":\n",
    "       return (str(x) + \"+\" + str(y) + \"=\" + str(x+y)) \n",
    "    if operation == \"-\":\n",
    "       return (str(x) + \"-\" + str(y) + \"=\" + str(x-y))  \n",
    "    if operation == \"*\":\n",
    "       return (str(x) + \"*\" + str(y) + \"=\" + str(x*y))  \n",
    "    if operation == \"/\":\n",
    "       return (str(x) + \"/\" + str(y) + \"=\" + str(x/y)) \n",
    "while True:   \n",
    "    try :\n",
    "        a = int(input(\"a: \"))\n",
    "        b = int(input(\"b: \"))\n",
    "        oprt = input(\"operation(+-*/): \")\n",
    "       \n",
    "    except :\n",
    "        print(\"Error!\")\n",
    "    else:\n",
    "        print(calculate(a, b, oprt))\n",
    "        break"
   ]
  },
  {
   "cell_type": "code",
   "execution_count": null,
   "metadata": {},
   "outputs": [],
   "source": [
    "def calculate2(oprtText):    \n",
    "    if \"+\" in oprtText:\n",
    "        oprtList = oprtText.split(\"+\")\n",
    "        return int(oprtList[0]) + int(oprtList[1]) \n",
    "    if \"-\" in oprtText:\n",
    "        oprtList = oprtText.split(\"-\")\n",
    "        return int(oprtList[0]) - int(oprtList[1])\n",
    "    if \"*\" in oprtText:\n",
    "        oprtList = oprtText.split(\"*\")\n",
    "        return int(oprtList[0]) * int(oprtList[1])\n",
    "    if \"/\" in oprtText:\n",
    "        oprtList = oprtText.split(\"/\")\n",
    "        return int(oprtList[0]) / int(oprtList[1])\n",
    "\n",
    "oprtText = input(\"Calculate :\")\n",
    "print(calculate2(oprtText))\n"
   ]
  },
  {
   "cell_type": "code",
   "execution_count": null,
   "metadata": {},
   "outputs": [],
   "source": [
    "locals()"
   ]
  },
  {
   "cell_type": "code",
   "execution_count": null,
   "metadata": {},
   "outputs": [],
   "source": []
  },
  {
   "cell_type": "code",
   "execution_count": null,
   "metadata": {},
   "outputs": [],
   "source": []
  }
 ],
 "metadata": {
  "kernelspec": {
   "display_name": "Python 3 (ipykernel)",
   "language": "python",
   "name": "python3"
  },
  "language_info": {
   "codemirror_mode": {
    "name": "ipython",
    "version": 3
   },
   "file_extension": ".py",
   "mimetype": "text/x-python",
   "name": "python",
   "nbconvert_exporter": "python",
   "pygments_lexer": "ipython3",
   "version": "3.8.11"
  }
 },
 "nbformat": 4,
 "nbformat_minor": 4
}
