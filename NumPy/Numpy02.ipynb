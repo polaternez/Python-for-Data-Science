{
 "cells": [
  {
   "cell_type": "code",
   "execution_count": 1,
   "id": "01fa4d51",
   "metadata": {},
   "outputs": [],
   "source": [
    "import numpy as np"
   ]
  },
  {
   "cell_type": "code",
   "execution_count": 2,
   "id": "7cf76af4",
   "metadata": {},
   "outputs": [
    {
     "data": {
      "text/plain": [
       "array([[1, 2, 3],\n",
       "       [4, 5, 6],\n",
       "       [7, 8, 9]])"
      ]
     },
     "execution_count": 2,
     "metadata": {},
     "output_type": "execute_result"
    }
   ],
   "source": [
    "arr = np.array([[1, 2, 3], [4, 5, 6], [7, 8, 9]])\n",
    "arr"
   ]
  },
  {
   "cell_type": "code",
   "execution_count": 3,
   "id": "99d48f73",
   "metadata": {},
   "outputs": [
    {
     "data": {
      "text/plain": [
       "array([[2., 0., 0.],\n",
       "       [0., 2., 0.],\n",
       "       [0., 0., 2.]])"
      ]
     },
     "execution_count": 3,
     "metadata": {},
     "output_type": "execute_result"
    }
   ],
   "source": [
    "arr2 = np.eye(3) * 2\n",
    "arr2"
   ]
  },
  {
   "cell_type": "markdown",
   "id": "f25ab8e5",
   "metadata": {},
   "source": [
    "# Matrix Product"
   ]
  },
  {
   "cell_type": "code",
   "execution_count": 4,
   "id": "65789bfd",
   "metadata": {},
   "outputs": [
    {
     "data": {
      "text/plain": [
       "array([[ 2.,  0.,  0.],\n",
       "       [ 0., 10.,  0.],\n",
       "       [ 0.,  0., 18.]])"
      ]
     },
     "execution_count": 4,
     "metadata": {},
     "output_type": "execute_result"
    }
   ],
   "source": [
    "arr * arr2"
   ]
  },
  {
   "cell_type": "code",
   "execution_count": 5,
   "id": "39e756b4",
   "metadata": {},
   "outputs": [],
   "source": [
    "def product_of_matrix(arr, arr2):\n",
    "    if arr.shape[1] != arr2.shape[0]:\n",
    "            print(\"Shape error!!\")\n",
    "            \n",
    "    if arr.shape[1] == arr2.shape[0]:\n",
    "        pom = np.empty((arr.shape[0], arr2.shape[1]))\n",
    "        for i in range(arr.shape[0]):\n",
    "            for j in range(arr2.shape[1]):\n",
    "                pom[i,j] = np.sum(arr[i,:]*arr2[:,j])\n",
    "        \n",
    "        return pom   \n",
    "    "
   ]
  },
  {
   "cell_type": "code",
   "execution_count": 6,
   "id": "f1e40181",
   "metadata": {
    "scrolled": true
   },
   "outputs": [
    {
     "data": {
      "text/plain": [
       "array([[ 2.,  4.,  6.],\n",
       "       [ 8., 10., 12.],\n",
       "       [14., 16., 18.]])"
      ]
     },
     "execution_count": 6,
     "metadata": {},
     "output_type": "execute_result"
    }
   ],
   "source": [
    "product_of_matrix(arr, arr2)"
   ]
  },
  {
   "cell_type": "code",
   "execution_count": 7,
   "id": "f986ed05",
   "metadata": {},
   "outputs": [],
   "source": [
    "arr3 = np.array([1, 2, 3])\n",
    "arr4 = arr3.reshape(3, 1)\n"
   ]
  },
  {
   "cell_type": "code",
   "execution_count": 8,
   "id": "bd464491",
   "metadata": {},
   "outputs": [
    {
     "data": {
      "text/plain": [
       "array([[2.],\n",
       "       [4.],\n",
       "       [6.]])"
      ]
     },
     "execution_count": 8,
     "metadata": {},
     "output_type": "execute_result"
    }
   ],
   "source": [
    "product_of_matrix(arr2, arr4)"
   ]
  },
  {
   "cell_type": "markdown",
   "id": "dd4a0d49",
   "metadata": {},
   "source": [
    "# Determinant"
   ]
  },
  {
   "cell_type": "code",
   "execution_count": 9,
   "id": "3fd31bd7",
   "metadata": {},
   "outputs": [],
   "source": [
    "import math"
   ]
  },
  {
   "cell_type": "code",
   "execution_count": 10,
   "id": "43e9f494",
   "metadata": {},
   "outputs": [],
   "source": [
    "def minor(arr, x, y):\n",
    "    min_arr = np.delete(arr, x, axis=0)\n",
    "    min_arr = np.delete(min_arr, y, axis=1)\n",
    "    \n",
    "    return min_arr   \n",
    "    "
   ]
  },
  {
   "cell_type": "code",
   "execution_count": 11,
   "id": "2c1c2599",
   "metadata": {},
   "outputs": [
    {
     "data": {
      "text/plain": [
       "array([[4, 5],\n",
       "       [7, 8]])"
      ]
     },
     "execution_count": 11,
     "metadata": {},
     "output_type": "execute_result"
    }
   ],
   "source": [
    "minor(arr, 0, 2)"
   ]
  },
  {
   "cell_type": "code",
   "execution_count": 12,
   "id": "bfeaba2e",
   "metadata": {},
   "outputs": [],
   "source": [
    "def determinant(arr, order):\n",
    "    if order == 1:\n",
    "        return arr[0]\n",
    "    \n",
    "    if order == 2:\n",
    "        return arr[0,0]*arr[1,1] - arr[0,1]*arr[1,0]    \n",
    "    else :\n",
    "        det = 0\n",
    "        for j in range(order):\n",
    "            det += arr[0,j] * math.pow(-1,j) * determinant(minor(arr, 0, j), order-1)\n",
    "        return det\n",
    "        "
   ]
  },
  {
   "cell_type": "code",
   "execution_count": 14,
   "id": "962771d4",
   "metadata": {},
   "outputs": [
    {
     "data": {
      "text/plain": [
       "array([[1, 1, 2],\n",
       "       [3, 1, 1],\n",
       "       [1, 1, 4]])"
      ]
     },
     "execution_count": 14,
     "metadata": {},
     "output_type": "execute_result"
    }
   ],
   "source": [
    "arr = np.array([[1, 1, 2], [3, 1, 1], [1, 1, 4]])\n",
    "arr"
   ]
  },
  {
   "cell_type": "code",
   "execution_count": 15,
   "id": "a58c9a7c",
   "metadata": {},
   "outputs": [
    {
     "data": {
      "text/plain": [
       "array([[4., 0., 0., 0.],\n",
       "       [0., 4., 0., 0.],\n",
       "       [0., 0., 4., 0.],\n",
       "       [0., 0., 0., 4.]])"
      ]
     },
     "execution_count": 15,
     "metadata": {},
     "output_type": "execute_result"
    }
   ],
   "source": [
    "arr5 = np.eye(4)*4\n",
    "arr5"
   ]
  },
  {
   "cell_type": "code",
   "execution_count": 16,
   "id": "b30c96f9",
   "metadata": {},
   "outputs": [
    {
     "data": {
      "text/plain": [
       "256.0"
      ]
     },
     "execution_count": 16,
     "metadata": {},
     "output_type": "execute_result"
    }
   ],
   "source": [
    "determinant(arr5, 4)"
   ]
  },
  {
   "cell_type": "code",
   "execution_count": null,
   "id": "b9ef4f7f",
   "metadata": {},
   "outputs": [],
   "source": []
  }
 ],
 "metadata": {
  "kernelspec": {
   "display_name": "Python 3",
   "language": "python",
   "name": "python3"
  },
  "language_info": {
   "codemirror_mode": {
    "name": "ipython",
    "version": 3
   },
   "file_extension": ".py",
   "mimetype": "text/x-python",
   "name": "python",
   "nbconvert_exporter": "python",
   "pygments_lexer": "ipython3",
   "version": "3.8.8"
  }
 },
 "nbformat": 4,
 "nbformat_minor": 5
}
